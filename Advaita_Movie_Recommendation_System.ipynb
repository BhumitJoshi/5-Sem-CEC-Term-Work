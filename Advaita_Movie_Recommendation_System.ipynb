{
  "nbformat": 4,
  "nbformat_minor": 0,
  "metadata": {
    "colab": {
      "provenance": [],
      "authorship_tag": "ABX9TyMMZtXWvc2vBD46NUe/9pLF",
      "include_colab_link": true
    },
    "kernelspec": {
      "name": "python3",
      "display_name": "Python 3"
    },
    "language_info": {
      "name": "python"
    }
  },
  "cells": [
    {
      "cell_type": "markdown",
      "metadata": {
        "id": "view-in-github",
        "colab_type": "text"
      },
      "source": [
        "<a href=\"https://colab.research.google.com/github/BhumitJoshi/5-Sem-CEC-Term-Work/blob/main/Advaita_Movie_Recommendation_System.ipynb\" target=\"_parent\"><img src=\"https://colab.research.google.com/assets/colab-badge.svg\" alt=\"Open In Colab\"/></a>"
      ]
    },
    {
      "cell_type": "code",
      "execution_count": 5,
      "metadata": {
        "id": "ar85tPzEAYjr"
      },
      "outputs": [],
      "source": [
        "import lamda as lamda\n",
        "import numpy as np\n",
        "import pandas as pd\n",
        "import ast\n",
        "from sklearn.feature_extraction.text import CountVectorizer\n",
        "from sklearn.metrics.pairwise import cosine_similarity\n",
        "import nltk\n",
        "from nltk.stem.porter import PorterStemmer"
      ]
    },
    {
      "cell_type": "code",
      "source": [
        "movies = pd.read_csv('/content/tmdb_5000_movies.csv')\n",
        "credit = pd.read_csv('/content/tmdb_5000_credits.csv')\n",
        "# there we are merging two data set on the basis of title\n",
        "movies = movies.merge(credit, on='title')\n",
        "# if we do movies = movies.merge(credit, on='title').shape and we\n",
        "# will print it,it will show 4803,23 i.e 4803 are rows and 23 are columns\n",
        "movies = movies[['movie_id', 'title', 'overview', 'genres', 'keywords', 'cast', 'crew']]\n",
        "# The dropna() method removes the rows that contains NULL values. The dropna() method returns a new DataFrame object\n",
        "# unless the inplace parameter is set to True , in that case the dropna() method does the removing in the original\n",
        "# DataFrame instead.\n",
        "movies.dropna(inplace=True)"
      ],
      "metadata": {
        "id": "rHk1VCE3CeU-"
      },
      "execution_count": 6,
      "outputs": []
    },
    {
      "cell_type": "code",
      "source": [
        "def convert(text):\n",
        "    l1 = []\n",
        "    for i in ast.literal_eval(text):\n",
        "        l1.append(i['name'])\n",
        "    return l1\n",
        "\n",
        "\n",
        "movies['genres'] = movies['genres'].apply(convert)\n",
        "movies['keywords'] = movies['keywords'].apply(convert)\n"
      ],
      "metadata": {
        "id": "9v2sy-LQIGXs"
      },
      "execution_count": 7,
      "outputs": []
    },
    {
      "cell_type": "code",
      "source": [
        "def convert3(text):\n",
        "    l1 = []\n",
        "    counter = 0\n",
        "    for i in ast.literal_eval(text):\n",
        "        if counter < 3:\n",
        "            l1.append(i['name'])\n",
        "            counter += 1\n",
        "        else:\n",
        "            break\n",
        "    return l1\n",
        "\n",
        "movies['cast'] = movies['cast'].apply(convert3)"
      ],
      "metadata": {
        "id": "8vWy-kdKIKxO"
      },
      "execution_count": 8,
      "outputs": []
    },
    {
      "cell_type": "code",
      "source": [
        "def dir_fetch(text):\n",
        "    l1 = []\n",
        "    for i in ast.literal_eval(text):\n",
        "        if i['job'] == 'Director':\n",
        "            l1.append(i['name'])\n",
        "            break\n",
        "    return l1"
      ],
      "metadata": {
        "id": "PJfxrJxdbRzo"
      },
      "execution_count": 10,
      "outputs": []
    },
    {
      "cell_type": "code",
      "source": [
        "movies['crew'] = movies['crew'].apply(dir_fetch)\n",
        "movies['overview'] = movies['overview'].apply(lambda x: x.split())\n",
        "\n",
        "movies['genres'] = movies['genres'].apply(lambda x: [i.replace(\" \", \"\") for i in x if i is not None])\n",
        "movies['keywords'] = movies['keywords'].apply(lambda x: [i.replace(\" \", \"\") for i in x])\n",
        "movies['cast'] = movies['cast'].apply(lambda x: [i.replace(\" \", \"\") for i in x])\n",
        "movies['crew'] = movies['crew'].apply(lambda x: [i.replace(\" \", \"\") for i in x])\n",
        "\n",
        "movies['tags'] = movies['genres'] + movies['keywords'] + movies['cast'] + movies['crew'] + movies['overview']\n",
        "new_df = movies[['movie_id', 'title', 'tags']]\n",
        "new_df['tags'] = new_df['tags'].apply(lambda x: \" \".join(x))\n",
        "new_df['tags'] = new_df['tags'].apply(lambda x: x.lower())"
      ],
      "metadata": {
        "id": "pDnkjq7HINau"
      },
      "execution_count": null,
      "outputs": []
    },
    {
      "cell_type": "code",
      "source": [
        "# max_featurs:: how many words we want to take\n",
        "# cv is object of CountVectorizer\n",
        "\n",
        "cv = CountVectorizer(max_features=5000, stop_words='english')\n",
        "vectors = cv.fit_transform(new_df['tags']).toarray()"
      ],
      "metadata": {
        "id": "pf-1eCjpIPfA"
      },
      "execution_count": 12,
      "outputs": []
    },
    {
      "cell_type": "code",
      "source": [
        "# cv.fit_transform(new_df['tags']) it return a sparse matrix to \"toarray()\" from \"numpy\" convert it into array\n",
        "def stem_words(text):\n",
        "    y = []\n",
        "    # split function split string in list\n",
        "    for i in text.split():\n",
        "        y.append(ps.stem(i))\n",
        "    return \" \".join(y)"
      ],
      "metadata": {
        "id": "V0JiUwkBKwxS"
      },
      "execution_count": 13,
      "outputs": []
    },
    {
      "cell_type": "code",
      "source": [
        "ps = PorterStemmer()\n",
        "new_df['tags'] = new_df['tags'].apply(stem_words)\n",
        "# print(cosine_similarity(vectors)) tells the distance of each vector with another\n",
        "# print(cosine_similarity(vectors).shape) tells the total that is 4806,4806\n",
        "similarity = cosine_similarity(vectors)"
      ],
      "metadata": {
        "id": "lxlGF9PdKyJ1"
      },
      "execution_count": null,
      "outputs": []
    },
    {
      "cell_type": "code",
      "source": [
        "def recommend(movie):\n",
        "    movie_index = new_df[new_df['title'] == movie].index[0]\n",
        "    distances = similarity[movie_index]\n",
        "    movie_list = sorted(list(enumerate(distances)), reverse=True, key=lambda x: x[1])[1:6]\n",
        "    for i in movie_list:\n",
        "        print(new_df.iloc[i[0]].title)"
      ],
      "metadata": {
        "id": "_y6NNRWFKz5z"
      },
      "execution_count": 15,
      "outputs": []
    },
    {
      "cell_type": "code",
      "source": [
        "pump = new_df.to_dict()\n",
        "\n",
        "print(recommend('Spider-Man'))"
      ],
      "metadata": {
        "colab": {
          "base_uri": "https://localhost:8080/"
        },
        "id": "Nf54hGlOK1qS",
        "outputId": "74d5b5eb-4c5b-4531-a7e9-fbb72ea76b7b"
      },
      "execution_count": 16,
      "outputs": [
        {
          "output_type": "stream",
          "name": "stdout",
          "text": [
            "Spider-Man 3\n",
            "Spider-Man 2\n",
            "The Amazing Spider-Man 2\n",
            "The Amazing Spider-Man\n",
            "Arachnophobia\n",
            "None\n"
          ]
        }
      ]
    }
  ]
}